{
 "cells": [
  {
   "cell_type": "code",
   "execution_count": 1,
   "outputs": [],
   "source": [
    "import warnings\n",
    "\n",
    "from rasa_nlu.config import RasaNLUModelConfig\n",
    "from rasa_nlu.model import Interpreter\n",
    "from rasa_nlu.model import Trainer\n",
    "from rasa_nlu.training_data import load_data\n",
    "\n",
    "warnings.filterwarnings(\"ignore\")"
   ],
   "metadata": {
    "collapsed": false,
    "pycharm": {
     "name": "#%%\n"
    }
   }
  },
  {
   "cell_type": "code",
   "execution_count": 2,
   "metadata": {
    "collapsed": true,
    "pycharm": {
     "name": "#%%\n"
    }
   },
   "outputs": [],
   "source": [
    "def train_model(data, folder_name):\n",
    "    training_data = load_data(data)\n",
    "    args = {\"pipeline\": \"spacy_sklearn\"}\n",
    "    config = RasaNLUModelConfig(configuration_values=args)\n",
    "    trainer = Trainer(config)\n",
    "    interpret = trainer.train(training_data)\n",
    "    trainer.persist(\"D:\\\\PycharmProjects\\\\WhatsAppBot\\\\test_models\\\\\" + folder_name, fixed_model_name=\"chatbot_model\")\n",
    "\n",
    "\n",
    "def load_saved_model(directory):\n",
    "    interpret = Interpreter.load(directory)\n",
    "    return interpret"
   ]
  },
  {
   "cell_type": "code",
   "execution_count": 3,
   "outputs": [
    {
     "name": "stderr",
     "output_type": "stream",
     "text": [
      "D:\\PycharmProjects\\WhatsAppBot\\bot_venv\\lib\\site-packages\\sklearn\\utils\\validation.py:37: DeprecationWarning: distutils Version classes are deprecated. Use packaging.version instead.\n",
      "  LARGE_SPARSE_SUPPORTED = LooseVersion(scipy_version) >= '0.14.0'\n"
     ]
    },
    {
     "name": "stdout",
     "output_type": "stream",
     "text": [
      "Fitting 2 folds for each of 6 candidates, totalling 12 fits\n"
     ]
    },
    {
     "name": "stderr",
     "output_type": "stream",
     "text": [
      "[Parallel(n_jobs=1)]: Using backend SequentialBackend with 1 concurrent workers.\n",
      "[Parallel(n_jobs=1)]: Done  12 out of  12 | elapsed:    0.3s finished\n"
     ]
    }
   ],
   "source": [
    "train_model(\"chattydata.json\", \"apr_27_1\")"
   ],
   "metadata": {
    "collapsed": false,
    "pycharm": {
     "name": "#%%\n"
    }
   }
  },
  {
   "cell_type": "code",
   "execution_count": 5,
   "outputs": [
    {
     "data": {
      "text/plain": "{'intent': {'name': 'makaut_course_search', 'confidence': 0.7064421154043249},\n 'entities': [{'start': 12,\n   'end': 15,\n   'value': 'M.Sc',\n   'entity': 'degree_type',\n   'confidence': 0.9158536581583373,\n   'extractor': 'CRFEntityExtractor',\n   'processors': ['EntitySynonymMapper']}],\n 'intent_ranking': [{'name': 'makaut_course_search',\n   'confidence': 0.7064421154043249},\n  {'name': 'ask_my_health', 'confidence': 0.035826095670990765},\n  {'name': 'greetings', 'confidence': 0.03332814330298981},\n  {'name': 'ask_for_pg_course_admission_fee',\n   'confidence': 0.028735807909136754},\n  {'name': 'exam_related_query', 'confidence': 0.02455169236698732},\n  {'name': 'ask_about_course_types', 'confidence': 0.02311315448118474},\n  {'name': 'goodbyes', 'confidence': 0.02242007970072142},\n  {'name': 'ask_for_pg_course_tuition_fee',\n   'confidence': 0.019120199602959274},\n  {'name': 'asking_for_certification_courses',\n   'confidence': 0.017780012715429654},\n  {'name': 'thank you', 'confidence': 0.014033231122632954}],\n 'text': 'whats about msc'}"
     },
     "execution_count": 5,
     "metadata": {},
     "output_type": "execute_result"
    }
   ],
   "source": [
    "interpreter = load_saved_model(\"test_models/apr_27_1/default/chatbot_model\")\n",
    "interpreter.parse(\"whats about msc\")"
   ],
   "metadata": {
    "collapsed": false,
    "pycharm": {
     "name": "#%%\n"
    }
   }
  }
 ],
 "metadata": {
  "kernelspec": {
   "display_name": "Python 3",
   "language": "python",
   "name": "python3"
  },
  "language_info": {
   "codemirror_mode": {
    "name": "ipython",
    "version": 2
   },
   "file_extension": ".py",
   "mimetype": "text/x-python",
   "name": "python",
   "nbconvert_exporter": "python",
   "pygments_lexer": "ipython2",
   "version": "2.7.6"
  }
 },
 "nbformat": 4,
 "nbformat_minor": 0
}